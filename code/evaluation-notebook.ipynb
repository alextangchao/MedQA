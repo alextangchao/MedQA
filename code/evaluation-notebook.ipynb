{
 "cells": [
  {
   "cell_type": "markdown",
   "id": "07279598-5cb1-46f1-b710-e4bfba532908",
   "metadata": {},
   "source": [
    "# Evaluation-notebook \n",
    "\n",
    "I'm assuming you git pull the last changes from the repo to open this file.\n",
    "\n",
    "## Instructions\n",
    "First, add your OPENAI_API_KEY \n",
    "\n",
    "Select `Run all cells`, and it will:\n",
    "- install dependencies\n",
    "- generate the A/B_test output file.\n",
    "\n",
    "**You can send it to me via email or push it to github)**"
   ]
  },
  {
   "cell_type": "code",
   "execution_count": 17,
   "id": "ad21f8b2-fbbe-433c-8e4d-e1075d5dd9d2",
   "metadata": {},
   "outputs": [
    {
     "name": "stdout",
     "output_type": "stream",
     "text": [
      "Requirement already satisfied: pandas in c:\\users\\alext\\miniconda3\\envs\\cs685\\lib\\site-packages (2.2.1)\n",
      "Requirement already satisfied: together in c:\\users\\alext\\miniconda3\\envs\\cs685\\lib\\site-packages (1.1.5)\n",
      "Requirement already satisfied: openai in c:\\users\\alext\\miniconda3\\envs\\cs685\\lib\\site-packages (1.30.1)\n",
      "Requirement already satisfied: instructor in c:\\users\\alext\\miniconda3\\envs\\cs685\\lib\\site-packages (1.2.6)\n",
      "Requirement already satisfied: numpy<2,>=1.23.2 in c:\\users\\alext\\miniconda3\\envs\\cs685\\lib\\site-packages (from pandas) (1.26.4)\n",
      "Requirement already satisfied: python-dateutil>=2.8.2 in c:\\users\\alext\\miniconda3\\envs\\cs685\\lib\\site-packages (from pandas) (2.9.0)\n",
      "Requirement already satisfied: pytz>=2020.1 in c:\\users\\alext\\miniconda3\\envs\\cs685\\lib\\site-packages (from pandas) (2024.1)\n",
      "Requirement already satisfied: tzdata>=2022.7 in c:\\users\\alext\\miniconda3\\envs\\cs685\\lib\\site-packages (from pandas) (2024.1)\n",
      "Requirement already satisfied: aiohttp<4.0.0,>=3.9.3 in c:\\users\\alext\\miniconda3\\envs\\cs685\\lib\\site-packages (from together) (3.9.3)\n",
      "Requirement already satisfied: click<9.0.0,>=8.1.7 in c:\\users\\alext\\miniconda3\\envs\\cs685\\lib\\site-packages (from together) (8.1.7)\n",
      "Requirement already satisfied: eval-type-backport<0.3.0,>=0.1.3 in c:\\users\\alext\\miniconda3\\envs\\cs685\\lib\\site-packages (from together) (0.2.0)\n",
      "Requirement already satisfied: filelock<4.0.0,>=3.13.1 in c:\\users\\alext\\miniconda3\\envs\\cs685\\lib\\site-packages (from together) (3.13.1)\n",
      "Requirement already satisfied: pillow<11.0.0,>=10.3.0 in c:\\users\\alext\\miniconda3\\envs\\cs685\\lib\\site-packages (from together) (10.3.0)\n",
      "Requirement already satisfied: pyarrow>=10.0.1 in c:\\users\\alext\\miniconda3\\envs\\cs685\\lib\\site-packages (from together) (15.0.1)\n",
      "Requirement already satisfied: pydantic<3.0.0,>=2.6.3 in c:\\users\\alext\\miniconda3\\envs\\cs685\\lib\\site-packages (from together) (2.7.1)\n",
      "Requirement already satisfied: requests<3.0.0,>=2.31.0 in c:\\users\\alext\\miniconda3\\envs\\cs685\\lib\\site-packages (from together) (2.31.0)\n",
      "Requirement already satisfied: tabulate<0.10.0,>=0.9.0 in c:\\users\\alext\\miniconda3\\envs\\cs685\\lib\\site-packages (from together) (0.9.0)\n",
      "Requirement already satisfied: tqdm<5.0.0,>=4.66.2 in c:\\users\\alext\\miniconda3\\envs\\cs685\\lib\\site-packages (from together) (4.66.2)\n",
      "Requirement already satisfied: typer<0.13,>=0.9 in c:\\users\\alext\\miniconda3\\envs\\cs685\\lib\\site-packages (from together) (0.9.0)\n",
      "Requirement already satisfied: anyio<5,>=3.5.0 in c:\\users\\alext\\miniconda3\\envs\\cs685\\lib\\site-packages (from openai) (4.3.0)\n",
      "Requirement already satisfied: distro<2,>=1.7.0 in c:\\users\\alext\\miniconda3\\envs\\cs685\\lib\\site-packages (from openai) (1.9.0)\n",
      "Requirement already satisfied: httpx<1,>=0.23.0 in c:\\users\\alext\\miniconda3\\envs\\cs685\\lib\\site-packages (from openai) (0.27.0)\n",
      "Requirement already satisfied: sniffio in c:\\users\\alext\\miniconda3\\envs\\cs685\\lib\\site-packages (from openai) (1.3.1)\n",
      "Requirement already satisfied: typing-extensions<5,>=4.7 in c:\\users\\alext\\miniconda3\\envs\\cs685\\lib\\site-packages (from openai) (4.10.0)\n",
      "Requirement already satisfied: docstring-parser<0.17,>=0.16 in c:\\users\\alext\\miniconda3\\envs\\cs685\\lib\\site-packages (from instructor) (0.16)\n",
      "Requirement already satisfied: pydantic-core<3.0.0,>=2.18.0 in c:\\users\\alext\\miniconda3\\envs\\cs685\\lib\\site-packages (from instructor) (2.18.2)\n",
      "Requirement already satisfied: rich<14.0.0,>=13.7.0 in c:\\users\\alext\\miniconda3\\envs\\cs685\\lib\\site-packages (from instructor) (13.7.1)\n",
      "Requirement already satisfied: tenacity<9.0.0,>=8.2.3 in c:\\users\\alext\\miniconda3\\envs\\cs685\\lib\\site-packages (from instructor) (8.3.0)\n",
      "Requirement already satisfied: aiosignal>=1.1.2 in c:\\users\\alext\\miniconda3\\envs\\cs685\\lib\\site-packages (from aiohttp<4.0.0,>=3.9.3->together) (1.3.1)\n",
      "Requirement already satisfied: attrs>=17.3.0 in c:\\users\\alext\\miniconda3\\envs\\cs685\\lib\\site-packages (from aiohttp<4.0.0,>=3.9.3->together) (23.2.0)\n",
      "Requirement already satisfied: frozenlist>=1.1.1 in c:\\users\\alext\\miniconda3\\envs\\cs685\\lib\\site-packages (from aiohttp<4.0.0,>=3.9.3->together) (1.4.1)\n",
      "Requirement already satisfied: multidict<7.0,>=4.5 in c:\\users\\alext\\miniconda3\\envs\\cs685\\lib\\site-packages (from aiohttp<4.0.0,>=3.9.3->together) (6.0.5)\n",
      "Requirement already satisfied: yarl<2.0,>=1.0 in c:\\users\\alext\\miniconda3\\envs\\cs685\\lib\\site-packages (from aiohttp<4.0.0,>=3.9.3->together) (1.9.4)\n",
      "Requirement already satisfied: idna>=2.8 in c:\\users\\alext\\miniconda3\\envs\\cs685\\lib\\site-packages (from anyio<5,>=3.5.0->openai) (3.6)\n",
      "Requirement already satisfied: colorama in c:\\users\\alext\\miniconda3\\envs\\cs685\\lib\\site-packages (from click<9.0.0,>=8.1.7->together) (0.4.6)\n",
      "Requirement already satisfied: certifi in c:\\users\\alext\\miniconda3\\envs\\cs685\\lib\\site-packages (from httpx<1,>=0.23.0->openai) (2024.2.2)\n",
      "Requirement already satisfied: httpcore==1.* in c:\\users\\alext\\miniconda3\\envs\\cs685\\lib\\site-packages (from httpx<1,>=0.23.0->openai) (1.0.5)\n",
      "Requirement already satisfied: h11<0.15,>=0.13 in c:\\users\\alext\\miniconda3\\envs\\cs685\\lib\\site-packages (from httpcore==1.*->httpx<1,>=0.23.0->openai) (0.14.0)\n",
      "Requirement already satisfied: annotated-types>=0.4.0 in c:\\users\\alext\\miniconda3\\envs\\cs685\\lib\\site-packages (from pydantic<3.0.0,>=2.6.3->together) (0.6.0)\n",
      "Requirement already satisfied: six>=1.5 in c:\\users\\alext\\miniconda3\\envs\\cs685\\lib\\site-packages (from python-dateutil>=2.8.2->pandas) (1.16.0)\n",
      "Requirement already satisfied: charset-normalizer<4,>=2 in c:\\users\\alext\\miniconda3\\envs\\cs685\\lib\\site-packages (from requests<3.0.0,>=2.31.0->together) (3.3.2)\n",
      "Requirement already satisfied: urllib3<3,>=1.21.1 in c:\\users\\alext\\miniconda3\\envs\\cs685\\lib\\site-packages (from requests<3.0.0,>=2.31.0->together) (2.2.1)\n",
      "Requirement already satisfied: markdown-it-py>=2.2.0 in c:\\users\\alext\\miniconda3\\envs\\cs685\\lib\\site-packages (from rich<14.0.0,>=13.7.0->instructor) (3.0.0)\n",
      "Requirement already satisfied: pygments<3.0.0,>=2.13.0 in c:\\users\\alext\\miniconda3\\envs\\cs685\\lib\\site-packages (from rich<14.0.0,>=13.7.0->instructor) (2.17.2)\n",
      "Requirement already satisfied: mdurl~=0.1 in c:\\users\\alext\\miniconda3\\envs\\cs685\\lib\\site-packages (from markdown-it-py>=2.2.0->rich<14.0.0,>=13.7.0->instructor) (0.1.2)\n"
     ]
    }
   ],
   "source": [
    "!pip install pandas together openai instructor"
   ]
  },
  {
   "cell_type": "code",
   "execution_count": 18,
   "id": "8eecdf9c-92db-4543-b3eb-fcd3517f0942",
   "metadata": {},
   "outputs": [
    {
     "data": {
      "text/plain": [
       "True"
      ]
     },
     "execution_count": 18,
     "metadata": {},
     "output_type": "execute_result"
    }
   ],
   "source": [
    "# from evaluate import load\n",
    "import pandas as pd \n",
    "import os\n",
    "import json\n",
    "import instructor\n",
    "from pydantic import BaseModel, Field\n",
    "from together import Together\n",
    "from openai import OpenAI\n",
    "from tqdm import tqdm\n",
    "from dotenv import load_dotenv\n",
    "\n",
    "load_dotenv()"
   ]
  },
  {
   "cell_type": "markdown",
   "id": "2bbb5497-871f-4da5-8fff-9a4ea2bc10c9",
   "metadata": {},
   "source": [
    "## Load data"
   ]
  },
  {
   "cell_type": "code",
   "execution_count": 19,
   "id": "a45adfd1-9100-4bf0-8073-85066318e4b1",
   "metadata": {},
   "outputs": [],
   "source": [
    "# load results from medpalm\n",
    "medpalm = pd.read_csv(\"../output/med-palm-paragraph.csv\")\n",
    "questions = list(medpalm['question'])\n",
    "mp2_predictions = list(medpalm['predict'])\n",
    "references = list(medpalm['answer'])\n",
    "\n",
    "# load results from llama3\n",
    "llama3 = pd.read_csv(\"../output/llama3.csv\")\n",
    "# questions = list(llama3['question'])\n",
    "ll3_predictions = list(llama3['qlora-1844'])\n",
    "# references = list(llama3['answer'])"
   ]
  },
  {
   "cell_type": "markdown",
   "id": "cc2f0dce-2510-4ea7-a2d9-7c271f56f5cd",
   "metadata": {
    "jp-MarkdownHeadingCollapsed": true
   },
   "source": [
    "# Data visualization"
   ]
  },
  {
   "cell_type": "code",
   "execution_count": 20,
   "id": "b49fa39a-7222-4c7b-a960-2395eb72212c",
   "metadata": {},
   "outputs": [
    {
     "name": "stdout",
     "output_type": "stream",
     "text": [
      "Medpalm-2 \n",
      "================= \n",
      "PCOS is linked to changes in hormone levels that make it harder for the ovaries to release fully-grown (mature) eggs. The reasons for these changes are unclear. The hormones affected are:  - Estrogen and progesterone, the female hormones that help a woman's ovaries release eggs   - Androgen, a male hormone that is found in small amounts in women   Normally, one or more eggs are released during a woman's cycle. This is known as ovulation. In most cases, this release of eggs occurs about 2 weeks after the start of a menstrual period.   In PCOS, mature eggs are not released. Instead, they stay in the ovaries with a small amount of fluid around them. There can be many of these. However, not all women with the condition will have ovaries with this appearance.   These problems with the release of eggs can contribute to infertility. The other symptoms of this disorder are due to thehormoneimbalances.  Most of the time, PCOS is diagnosed in women in their 20s or 30s. However, it may also affect teenage girls. The symptoms often begin when a girl's periods start. Women with this disorder often have a mother or sister who has similar symptoms.) \n",
      "\n",
      "Llama qlora-1844 \n",
      "================= \n",
      "The cause of polycystic ovary syndrome (PCOS) is unknown. Scientists believe that several factors interact to cause PCOS, including insulin resistance, high androgens, and obesity. Insulin resistance Insulin is a hormone produced by the pancreas that helps cells throughout the body use glucose for energy. Insulin resistance means that the body's cells are less sensitive to the effects of insulin. Insulin resistance can lead to high blood sugar levels. High androgens Androgens are hormones that occur naturally in both women and men. Androgens are important for normal sexual development. In women, androgens are produced by the ovaries, the adrenal glands, and the placenta. In men, androgens are produced by the testicles. Normally, women produce small amounts of androgens. In women with PCOS, the ovaries produce high levels of androgens. Obesity Obesity is a medical condition in which a person has an abnormally high amount of body fat. Obesity increases the amount of hormones in the blood that can cause insulin resistance. Researchers believe that obesity may cause PCOS in women who are insulin resistant. \n",
      "\n",
      "llama-3 \n",
      "================= \n",
      "Polycystic ovary syndrome (PCOS) is a common health problem related to the female reproductive system. It is caused by an imbalance of hormones. This imbalance can cause a woman's body to make extra male hormones. These hormones are called androgens. Women with PCOS have higher than normal male hormone levels. This hormone imbalance can cause problems with a woman's menstrual cycle, fertility, and appearance.\n"
     ]
    }
   ],
   "source": [
    "num_row = 1\n",
    "print(f\"Medpalm-2 \\n================= \\n{medpalm.loc[num_row]['answer']} \\\n",
    "\\n\\nLlama qlora-1844 \\n================= \\n{llama3.loc[num_row]['qlora-1844']} \\\n",
    "\\n\\nllama-3 \\n================= \\n{llama3.loc[num_row]['llama3']}\")"
   ]
  },
  {
   "cell_type": "markdown",
   "id": "71c808ea-3874-4576-90f1-7d7c3d64c313",
   "metadata": {
    "jp-MarkdownHeadingCollapsed": true
   },
   "source": [
    "# Bertscore"
   ]
  },
  {
   "cell_type": "code",
   "execution_count": 21,
   "id": "e99bca4d-0230-4390-ac5e-ff2853ff61b0",
   "metadata": {},
   "outputs": [],
   "source": [
    "# calculate BERTscore\n",
    "\n",
    "# bertscore = load(\"bertscore\")\n",
    "\n",
    "# bertscore = bertscore.compute(predictions=predictions, references=references, lang=\"en\") # precision, recall, f1score\n",
    "\n"
   ]
  },
  {
   "cell_type": "markdown",
   "id": "cd345662-1d8c-44f5-8ca6-b4ec11660d21",
   "metadata": {},
   "source": [
    "# Prompts for evals "
   ]
  },
  {
   "cell_type": "markdown",
   "id": "114c0d46-e2b6-4dff-8383-aa37dda47603",
   "metadata": {},
   "source": [
    "## Single answer eval (e.g  model_A or model_B answer against gold answer) "
   ]
  },
  {
   "cell_type": "markdown",
   "id": "4879c871-93a3-4c59-9211-6ee2aa32d2c0",
   "metadata": {},
   "source": [
    "### Template"
   ]
  },
  {
   "cell_type": "code",
   "execution_count": 22,
   "id": "9eb5a1af-c5b4-4331-9a32-2dee22eb053a",
   "metadata": {},
   "outputs": [],
   "source": [
    "## prompt for llm evaluation\n",
    "\n",
    "prompt = \\\n",
    "\"\"\"\n",
    "This is an evaluation task for a medical Question-Answering system, your task is to evaluate the predicted answer of medical question and compare it with the gold answer provided as a reference. \n",
    "\n",
    "The evaluation of the predicted answer would be based on four metrics: coherence, naturalness, correctness and completeness, you are asked to provide four ratings based on these metrics separately.\n",
    "\n",
    "Here are some instructions on rating the four metrics:\n",
    "1. **Correctness**: correctness addresses the faithfulness of an explanation with respect to the predictive model, this reflects whether the model understands the given question. You need to check that whether the prediction contains correct information about the question and if it is related to the question;\n",
    "2. **Coherence**: coherence describes how accordant the explanation is with prior knowledge and beliefs, you need to check the logical flow, thematic consistency, and stylistic uniformity in the predicted answer. This step is to evaluate the consistency of the output answer;\n",
    "3. **Naturalness**: naturalness evaluates how closely the predicted answer resembles a native human speaker. A natural answer should be fluent and indistinguishable from human written text, you need to check the similarity between the prediction and a human written text;\n",
    "4. **Completeness**: completeness measures how complete the prediction is. A complete answer should be comprehensive and thorough, covers all relevant aspects in the given question. You should check whether the prediction answers all aspects mentioned in the question compared to the gold answer and the question itself;\n",
    "\n",
    "Based on the instructions, you are required to output the rating based on a 10-point scale. 1 (incompatible to the instructions and incorrect), 5 (relates to the instructions but have some flaws) and 10 (perfectly aligns with the question and gold answer as well as the rating instructions ).\n",
    "\n",
    "The gold Q-A pairs and model prediction are:\n",
    "\n",
    "**Question**: {%s}\n",
    "**Gold answer**: {%s}\n",
    "**Prediction**: {%s}\n",
    "\n",
    "The output should be provided in JSON format as follows with no extra words and only the JSON dictionary:\n",
    "{\"question\": the input question, \"prediction\": given predicted answer, \"gold answer\": given gold answer, \"correctness\": the score for correctness, \"coherence\": score for coherence, \"naturalness\": score for naturalness, \"completeness\": score for completeness, \"reason\": reason for giving the ratings for the four scores}\n",
    "    \n",
    "\n",
    "\"\"\"\n",
    "\n",
    "TOGETHER_API_KEY = \"3f06bb7945192b6e58e9d4acd1d265fe51a1478015fb5cac5d67c3ca274b3c94\"\n",
    "base_url = \"https://api.together.xyz/v1\"\n",
    "model = \"META-LLAMA/LLAMA-3-70B-CHAT-HF\"\n",
    "#### llama3 70b\n",
    "\n",
    "client = Together(api_key = TOGETHER_API_KEY)\n",
    "\n",
    "#### GPT-4\n",
    "\n",
    "client = OpenAI(\n",
    "    api_key = TOGETHER_API_KEY,\n",
    "    base_url = base_url\n",
    ")\n",
    "\n",
    "#### get evaluation\n",
    "\n",
    "Report_Single_Answer_Eval = pd.DataFrame()\n",
    "\n",
    "for i in range(len(questions)):\n",
    "    break\n",
    "    content = prompt% tuple([questions[i], references[i], ll3_predictions[i]])\n",
    "    response = client.chat.completions.create(\n",
    "    model=model, # llama3 70b: \"META-LLAMA/LLAMA-3-70B-CHAT-HF\"; GPT4: \"gpt-4\"\n",
    "    messages=[{\"role\": \"user\", \"content\": content}],\n",
    "    temperature = 0.2,\n",
    ")\n",
    "    report = response.choices[0].message.content\n",
    "    report = ast.literal_eval(report)\n",
    "    Report_Single_Answer_Eval = pd.concat([Report_Single_Answer_Eval, pd.DataFrame([report])], ignore_index=True)\n",
    "    break\n",
    "    if (i+1)%10 == 0:\n",
    "        print(\"-----------------------eval complete for \", i+1, \"predictions---------------------\")\n"
   ]
  },
  {
   "cell_type": "markdown",
   "id": "d168416a-059b-4bb3-a246-82ccd85f6a84",
   "metadata": {},
   "source": [
    "### Results - Single answer eval (llama-3 against gold answer) "
   ]
  },
  {
   "cell_type": "markdown",
   "id": "a3b8bfb5-b906-4511-8cae-9f121a228575",
   "metadata": {},
   "source": [
    "```\n",
    "question        What is (are) Polycystic ovary syndrome ? (Als...\n",
    "prediction      Polycystic ovary syndrome (PCOS) is a conditio...\n",
    "gold answer     Polycystic ovary syndrome is a condition in wh...\n",
    "correctness                                                    10\n",
    "coherence                                                      10\n",
    "naturalness                                                    10\n",
    "completeness                                                   10\n",
    "reason          The predicted answer is highly accurate and co...\n",
    "Name: 0, dtype: object"
   ]
  },
  {
   "cell_type": "markdown",
   "id": "61e0c72c-0b5a-4ab9-b878-03ac6bf34df8",
   "metadata": {},
   "source": [
    "## Pairs of answers eval (e.g  model_A and model_B answer against gold answer) "
   ]
  },
  {
   "cell_type": "markdown",
   "id": "904a00a8-f73a-4280-8681-2a780be24578",
   "metadata": {},
   "source": [
    "### Together.ai json mode  || json output parser with pydantic"
   ]
  },
  {
   "cell_type": "code",
   "execution_count": 23,
   "id": "092ee4eb-ae77-4810-bd28-0c22f4937d75",
   "metadata": {},
   "outputs": [],
   "source": [
    "## Output parser\n",
    "class ModelResuts(BaseModel):\n",
    "    model : str = Field(description=\"given model name\")\n",
    "    correctness : str = Field(description=\"the score for correctness\")\n",
    "    coherence : str = Field(description=\"score for coherence\")\n",
    "    naturalness : str = Field(description=\"score for naturalness\")\n",
    "    completeness : str = Field(description=\"score for completeness\")\n",
    "    reason : str = Field(description=\"reason for giving the ratings for the four scores\")\n",
    "    \n",
    "class Report_Pair_eval(BaseModel):\n",
    "    question : str = Field(description=\"The input question\")\n",
    "    winner : str = Field(description=\"name of the model most similar to the gold answer, model_a or model_b\")\n",
    "    winner_reason : str = Field(description=\"reasons for selecting a model as a winner. Provide some details and concrete examples\")\n",
    "    modelA : ModelResuts\n",
    "    modelB : ModelResuts \n",
    "    "
   ]
  },
  {
   "cell_type": "markdown",
   "id": "28f4a294-ca7c-4fc4-b7b6-4b9c503dd2c7",
   "metadata": {},
   "source": [
    "### Template"
   ]
  },
  {
   "cell_type": "code",
   "execution_count": 24,
   "id": "5e7a35a0-5194-4e8a-83d9-57184675ddef",
   "metadata": {},
   "outputs": [],
   "source": [
    "question_template = \"\"\"\n",
    "    Evaluate the responses of two models, Llama-3 and MedPal-2, to a medical question against a gold standard answer. Rate each model response based on four metrics: correctness, coherence, naturalness, and completeness.\n",
    "\n",
    "    Here are some instructions on rating the four metrics:\n",
    "    1. **Correctness**: correctness addresses the faithfulness of an explanation with respect to the predictive model, this reflects whether the model understands the given question. You need to check that whether the prediction contains correct information about the question and if it is related to the question;\n",
    "    2. **Coherence**: coherence describes how accordant the explanation is with prior knowledge and beliefs, you need to check the logical flow, thematic consistency, and stylistic uniformity in the predicted answer. This step is to evaluate the consistency of the output answer;\n",
    "    3. **Naturalness**: naturalness evaluates how closely the predicted answer resembles a native human speaker. A natural answer should be fluent and indistinguishable from human written text, you need to check the similarity between the prediction and a human written text;\n",
    "    4. **Completeness**: completeness measures how complete the prediction is. A complete answer should be comprehensive and thorough, covers all relevant aspects in the given question. You should check whether the prediction answers all aspects mentioned in the question compared to the gold answer and the question itself;\n",
    "\n",
    "    Ratings should be on a 10-point scale:\n",
    "    - 1: Not aligned with instructions and incorrect.\n",
    "    - 5: Partially aligned with some flaws.\n",
    "    - 10: Fully aligned and perfectly accurate.\n",
    "\n",
    "    ========== Question =========\n",
    "    **Question**: {question}\n",
    "\n",
    "    ========== Gold Answer =========\n",
    "    **Gold Answer**: {gold_answer}\n",
    "\n",
    "    ========== Model A Answer =========\n",
    "    **Llama-3**: {model_a_answer}\n",
    "    \n",
    "    ========== Model B Answer =========\n",
    "    **MedPalm-2**: {model_b_answer}\n",
    "\n",
    "    Prefer answers that closely match the gold answer, even if it is non-responsive.\n",
    "\"\"\"\n",
    "additional_instructions = \"\"\"\n",
    "    Use the full rating range and focus on the similarity to the gold answer. Output the ratings in JSON format without additional text:\n",
    "    ========== Json example =========\n",
    "    {\n",
    "        \"question\": the question,\n",
    "        \"model_a\": {\n",
    "            \"model_name\": Llama-3,\n",
    "            \"correctness\": score,\n",
    "            \"coherence\": score,\n",
    "            \"naturalness\": score,\n",
    "            \"completeness\": score,\n",
    "            \"reason\": explanation\n",
    "        },\n",
    "        \"model_b\": {\n",
    "            \"model_name\": MedPalm-2,\n",
    "            \"correctness\": score,\n",
    "            \"coherence\": score,\n",
    "            \"naturalness\": score,\n",
    "            \"completeness\": score,\n",
    "            \"reason\": explanation\n",
    "        },\n",
    "        \"winner\": winner model name,\n",
    "        \"winner_reason\": explanation of why one model is better than the other\n",
    "    }\n",
    "\"\"\""
   ]
  },
  {
   "cell_type": "markdown",
   "id": "e801b129-23de-43bd-b5ae-e12fad647df4",
   "metadata": {},
   "source": [
    "### SET HERE YOU OPEN_AI_API"
   ]
  },
  {
   "cell_type": "code",
   "execution_count": 25,
   "id": "581ecf07-68ec-4c2d-be9c-bd4dd33b4b45",
   "metadata": {},
   "outputs": [],
   "source": [
    "\n",
    "# first 500 evals\n",
    "num_ele = 500\n",
    "questions = questions[0:num_ele]\n",
    "references = references[0:num_ele]\n",
    "mp2_predictions = mp2_predictions[0:num_ele]\n",
    "ll3_predictions = ll3_predictions[0:num_ele]\n",
    "\n",
    "# Chaolong\n",
    "# os.environ[\"OPENAI_API_KEY\"] = \"YOUR_OPENAI_API_KEY_HERE\"\n",
    "# model = \"gpt-3.5-turbo\"\n",
    "# model = \"gpt-4\"\n",
    "model = \"gpt-3.5-turbo-0125\""
   ]
  },
  {
   "cell_type": "code",
   "execution_count": 27,
   "id": "b6c2f816-d55a-4976-8df4-716dc5a5e8bd",
   "metadata": {
    "scrolled": true
   },
   "outputs": [
    {
     "name": "stderr",
     "output_type": "stream",
     "text": [
      "  0%|          | 2/500 [00:18<1:15:09,  9.06s/it]\n"
     ]
    },
    {
     "ename": "BadRequestError",
     "evalue": "Error code: 400 - {'error': {'message': \"Invalid schema for function 'Report_Pair_eval': '' is not valid under any of the given schemas. (request id: 202405162020143452974734WHWMGuT)\", 'type': 'invalid_request_error', 'param': '', 'code': None}}",
     "output_type": "error",
     "traceback": [
      "\u001b[1;31m---------------------------------------------------------------------------\u001b[0m",
      "\u001b[1;31mBadRequestError\u001b[0m                           Traceback (most recent call last)",
      "Cell \u001b[1;32mIn[27], line 15\u001b[0m\n\u001b[0;32m      8\u001b[0m content \u001b[38;5;241m=\u001b[39m question_template\u001b[38;5;241m.\u001b[39mformat(\n\u001b[0;32m      9\u001b[0m     question\u001b[38;5;241m=\u001b[39mquestions[i],\n\u001b[0;32m     10\u001b[0m     gold_answer\u001b[38;5;241m=\u001b[39mreferences[i],\n\u001b[0;32m     11\u001b[0m     model_a_answer\u001b[38;5;241m=\u001b[39mll3_predictions[i],\n\u001b[0;32m     12\u001b[0m     model_b_answer\u001b[38;5;241m=\u001b[39mmp2_predictions[i]) \n\u001b[0;32m     13\u001b[0m \u001b[38;5;66;03m# content += additional_instructions \u001b[39;00m\n\u001b[1;32m---> 15\u001b[0m response \u001b[38;5;241m=\u001b[39m \u001b[43mclient\u001b[49m\u001b[38;5;241;43m.\u001b[39;49m\u001b[43mchat\u001b[49m\u001b[38;5;241;43m.\u001b[39;49m\u001b[43mcompletions\u001b[49m\u001b[38;5;241;43m.\u001b[39;49m\u001b[43mcreate\u001b[49m\u001b[43m(\u001b[49m\n\u001b[0;32m     16\u001b[0m \u001b[43m    \u001b[49m\u001b[43mmodel\u001b[49m\u001b[38;5;241;43m=\u001b[39;49m\u001b[43mmodel\u001b[49m\u001b[43m,\u001b[49m\u001b[43m \u001b[49m\n\u001b[0;32m     17\u001b[0m \u001b[43m    \u001b[49m\u001b[43mresponse_model\u001b[49m\u001b[43m \u001b[49m\u001b[38;5;241;43m=\u001b[39;49m\u001b[43m \u001b[49m\u001b[43mReport_Pair_eval\u001b[49m\u001b[43m,\u001b[49m\n\u001b[0;32m     18\u001b[0m \u001b[43m    \u001b[49m\u001b[43mmessages\u001b[49m\u001b[38;5;241;43m=\u001b[39;49m\u001b[43m[\u001b[49m\u001b[43m{\u001b[49m\u001b[38;5;124;43m\"\u001b[39;49m\u001b[38;5;124;43mrole\u001b[39;49m\u001b[38;5;124;43m\"\u001b[39;49m\u001b[43m:\u001b[49m\u001b[43m \u001b[49m\u001b[38;5;124;43m\"\u001b[39;49m\u001b[38;5;124;43muser\u001b[39;49m\u001b[38;5;124;43m\"\u001b[39;49m\u001b[43m,\u001b[49m\u001b[43m \u001b[49m\u001b[38;5;124;43m\"\u001b[39;49m\u001b[38;5;124;43mcontent\u001b[39;49m\u001b[38;5;124;43m\"\u001b[39;49m\u001b[43m:\u001b[49m\u001b[43m \u001b[49m\u001b[43mcontent\u001b[49m\u001b[43m}\u001b[49m\u001b[43m]\u001b[49m\u001b[43m,\u001b[49m\n\u001b[0;32m     19\u001b[0m \u001b[43m    \u001b[49m\u001b[43mtemperature\u001b[49m\u001b[43m \u001b[49m\u001b[38;5;241;43m=\u001b[39;49m\u001b[43m \u001b[49m\u001b[38;5;241;43m0\u001b[39;49m\u001b[43m,\u001b[49m\n\u001b[0;32m     20\u001b[0m \u001b[43m\u001b[49m\u001b[43m)\u001b[49m\n\u001b[0;32m     22\u001b[0m report_pair_eval_df \u001b[38;5;241m=\u001b[39m pd\u001b[38;5;241m.\u001b[39mconcat([report_pair_eval_df, pd\u001b[38;5;241m.\u001b[39mDataFrame([response\u001b[38;5;241m.\u001b[39mdict()])], ignore_index\u001b[38;5;241m=\u001b[39m\u001b[38;5;28;01mTrue\u001b[39;00m)\n\u001b[0;32m     23\u001b[0m \u001b[38;5;28;01mif\u001b[39;00m (i\u001b[38;5;241m+\u001b[39m\u001b[38;5;241m1\u001b[39m)\u001b[38;5;241m%\u001b[39m\u001b[38;5;241m10\u001b[39m \u001b[38;5;241m==\u001b[39m \u001b[38;5;241m0\u001b[39m:\n",
      "File \u001b[1;32mc:\\Users\\alext\\miniconda3\\envs\\cs685\\Lib\\site-packages\\instructor\\client.py:91\u001b[0m, in \u001b[0;36mInstructor.create\u001b[1;34m(self, response_model, messages, max_retries, validation_context, strict, **kwargs)\u001b[0m\n\u001b[0;32m     80\u001b[0m \u001b[38;5;28;01mdef\u001b[39;00m \u001b[38;5;21mcreate\u001b[39m(\n\u001b[0;32m     81\u001b[0m     \u001b[38;5;28mself\u001b[39m,\n\u001b[0;32m     82\u001b[0m     response_model: \u001b[38;5;28mtype\u001b[39m[T],\n\u001b[1;32m   (...)\u001b[0m\n\u001b[0;32m     87\u001b[0m     \u001b[38;5;241m*\u001b[39m\u001b[38;5;241m*\u001b[39mkwargs: Any,\n\u001b[0;32m     88\u001b[0m ) \u001b[38;5;241m-\u001b[39m\u001b[38;5;241m>\u001b[39m T \u001b[38;5;241m|\u001b[39m Awaitable[T]:\n\u001b[0;32m     89\u001b[0m     kwargs \u001b[38;5;241m=\u001b[39m \u001b[38;5;28mself\u001b[39m\u001b[38;5;241m.\u001b[39mhandle_kwargs(kwargs)\n\u001b[1;32m---> 91\u001b[0m     \u001b[38;5;28;01mreturn\u001b[39;00m \u001b[38;5;28;43mself\u001b[39;49m\u001b[38;5;241;43m.\u001b[39;49m\u001b[43mcreate_fn\u001b[49m\u001b[43m(\u001b[49m\n\u001b[0;32m     92\u001b[0m \u001b[43m        \u001b[49m\u001b[43mresponse_model\u001b[49m\u001b[38;5;241;43m=\u001b[39;49m\u001b[43mresponse_model\u001b[49m\u001b[43m,\u001b[49m\n\u001b[0;32m     93\u001b[0m \u001b[43m        \u001b[49m\u001b[43mmessages\u001b[49m\u001b[38;5;241;43m=\u001b[39;49m\u001b[43mmessages\u001b[49m\u001b[43m,\u001b[49m\n\u001b[0;32m     94\u001b[0m \u001b[43m        \u001b[49m\u001b[43mmax_retries\u001b[49m\u001b[38;5;241;43m=\u001b[39;49m\u001b[43mmax_retries\u001b[49m\u001b[43m,\u001b[49m\n\u001b[0;32m     95\u001b[0m \u001b[43m        \u001b[49m\u001b[43mvalidation_context\u001b[49m\u001b[38;5;241;43m=\u001b[39;49m\u001b[43mvalidation_context\u001b[49m\u001b[43m,\u001b[49m\n\u001b[0;32m     96\u001b[0m \u001b[43m        \u001b[49m\u001b[43mstrict\u001b[49m\u001b[38;5;241;43m=\u001b[39;49m\u001b[43mstrict\u001b[49m\u001b[43m,\u001b[49m\n\u001b[0;32m     97\u001b[0m \u001b[43m        \u001b[49m\u001b[38;5;241;43m*\u001b[39;49m\u001b[38;5;241;43m*\u001b[39;49m\u001b[43mkwargs\u001b[49m\u001b[43m,\u001b[49m\n\u001b[0;32m     98\u001b[0m \u001b[43m    \u001b[49m\u001b[43m)\u001b[49m\n",
      "File \u001b[1;32mc:\\Users\\alext\\miniconda3\\envs\\cs685\\Lib\\site-packages\\instructor\\patch.py:143\u001b[0m, in \u001b[0;36mpatch.<locals>.new_create_sync\u001b[1;34m(response_model, validation_context, max_retries, strict, *args, **kwargs)\u001b[0m\n\u001b[0;32m    131\u001b[0m \u001b[38;5;129m@wraps\u001b[39m(func)\n\u001b[0;32m    132\u001b[0m \u001b[38;5;28;01mdef\u001b[39;00m \u001b[38;5;21mnew_create_sync\u001b[39m(\n\u001b[0;32m    133\u001b[0m     response_model: \u001b[38;5;28mtype\u001b[39m[T_Model] \u001b[38;5;241m=\u001b[39m \u001b[38;5;28;01mNone\u001b[39;00m,\n\u001b[1;32m   (...)\u001b[0m\n\u001b[0;32m    138\u001b[0m     \u001b[38;5;241m*\u001b[39m\u001b[38;5;241m*\u001b[39mkwargs: T_ParamSpec\u001b[38;5;241m.\u001b[39mkwargs,\n\u001b[0;32m    139\u001b[0m ) \u001b[38;5;241m-\u001b[39m\u001b[38;5;241m>\u001b[39m T_Model:\n\u001b[0;32m    140\u001b[0m     response_model, new_kwargs \u001b[38;5;241m=\u001b[39m handle_response_model(\n\u001b[0;32m    141\u001b[0m         response_model\u001b[38;5;241m=\u001b[39mresponse_model, mode\u001b[38;5;241m=\u001b[39mmode, \u001b[38;5;241m*\u001b[39m\u001b[38;5;241m*\u001b[39mkwargs\n\u001b[0;32m    142\u001b[0m     )\n\u001b[1;32m--> 143\u001b[0m     response \u001b[38;5;241m=\u001b[39m \u001b[43mretry_sync\u001b[49m\u001b[43m(\u001b[49m\n\u001b[0;32m    144\u001b[0m \u001b[43m        \u001b[49m\u001b[43mfunc\u001b[49m\u001b[38;5;241;43m=\u001b[39;49m\u001b[43mfunc\u001b[49m\u001b[43m,\u001b[49m\n\u001b[0;32m    145\u001b[0m \u001b[43m        \u001b[49m\u001b[43mresponse_model\u001b[49m\u001b[38;5;241;43m=\u001b[39;49m\u001b[43mresponse_model\u001b[49m\u001b[43m,\u001b[49m\n\u001b[0;32m    146\u001b[0m \u001b[43m        \u001b[49m\u001b[43mvalidation_context\u001b[49m\u001b[38;5;241;43m=\u001b[39;49m\u001b[43mvalidation_context\u001b[49m\u001b[43m,\u001b[49m\n\u001b[0;32m    147\u001b[0m \u001b[43m        \u001b[49m\u001b[43mmax_retries\u001b[49m\u001b[38;5;241;43m=\u001b[39;49m\u001b[43mmax_retries\u001b[49m\u001b[43m,\u001b[49m\n\u001b[0;32m    148\u001b[0m \u001b[43m        \u001b[49m\u001b[43margs\u001b[49m\u001b[38;5;241;43m=\u001b[39;49m\u001b[43margs\u001b[49m\u001b[43m,\u001b[49m\n\u001b[0;32m    149\u001b[0m \u001b[43m        \u001b[49m\u001b[43mstrict\u001b[49m\u001b[38;5;241;43m=\u001b[39;49m\u001b[43mstrict\u001b[49m\u001b[43m,\u001b[49m\n\u001b[0;32m    150\u001b[0m \u001b[43m        \u001b[49m\u001b[43mkwargs\u001b[49m\u001b[38;5;241;43m=\u001b[39;49m\u001b[43mnew_kwargs\u001b[49m\u001b[43m,\u001b[49m\n\u001b[0;32m    151\u001b[0m \u001b[43m        \u001b[49m\u001b[43mmode\u001b[49m\u001b[38;5;241;43m=\u001b[39;49m\u001b[43mmode\u001b[49m\u001b[43m,\u001b[49m\n\u001b[0;32m    152\u001b[0m \u001b[43m    \u001b[49m\u001b[43m)\u001b[49m\n\u001b[0;32m    153\u001b[0m     \u001b[38;5;28;01mreturn\u001b[39;00m response\n",
      "File \u001b[1;32mc:\\Users\\alext\\miniconda3\\envs\\cs685\\Lib\\site-packages\\instructor\\retry.py:152\u001b[0m, in \u001b[0;36mretry_sync\u001b[1;34m(func, response_model, validation_context, args, kwargs, max_retries, strict, mode)\u001b[0m\n\u001b[0;32m    149\u001b[0m     \u001b[38;5;28;01mraise\u001b[39;00m \u001b[38;5;167;01mValueError\u001b[39;00m(\u001b[38;5;124m\"\u001b[39m\u001b[38;5;124mmax_retries must be an int or a `tenacity.Retrying` object\u001b[39m\u001b[38;5;124m\"\u001b[39m)\n\u001b[0;32m    151\u001b[0m \u001b[38;5;28;01mtry\u001b[39;00m:\n\u001b[1;32m--> 152\u001b[0m \u001b[43m    \u001b[49m\u001b[38;5;28;43;01mfor\u001b[39;49;00m\u001b[43m \u001b[49m\u001b[43mattempt\u001b[49m\u001b[43m \u001b[49m\u001b[38;5;129;43;01min\u001b[39;49;00m\u001b[43m \u001b[49m\u001b[43mmax_retries\u001b[49m\u001b[43m:\u001b[49m\n\u001b[0;32m    153\u001b[0m \u001b[43m        \u001b[49m\u001b[38;5;28;43;01mwith\u001b[39;49;00m\u001b[43m \u001b[49m\u001b[43mattempt\u001b[49m\u001b[43m:\u001b[49m\n\u001b[0;32m    154\u001b[0m \u001b[43m            \u001b[49m\u001b[38;5;28;43;01mtry\u001b[39;49;00m\u001b[43m:\u001b[49m\n",
      "File \u001b[1;32mc:\\Users\\alext\\miniconda3\\envs\\cs685\\Lib\\site-packages\\tenacity\\__init__.py:435\u001b[0m, in \u001b[0;36mBaseRetrying.__iter__\u001b[1;34m(self)\u001b[0m\n\u001b[0;32m    433\u001b[0m retry_state \u001b[38;5;241m=\u001b[39m RetryCallState(\u001b[38;5;28mself\u001b[39m, fn\u001b[38;5;241m=\u001b[39m\u001b[38;5;28;01mNone\u001b[39;00m, args\u001b[38;5;241m=\u001b[39m(), kwargs\u001b[38;5;241m=\u001b[39m{})\n\u001b[0;32m    434\u001b[0m \u001b[38;5;28;01mwhile\u001b[39;00m \u001b[38;5;28;01mTrue\u001b[39;00m:\n\u001b[1;32m--> 435\u001b[0m     do \u001b[38;5;241m=\u001b[39m \u001b[38;5;28;43mself\u001b[39;49m\u001b[38;5;241;43m.\u001b[39;49m\u001b[43miter\u001b[49m\u001b[43m(\u001b[49m\u001b[43mretry_state\u001b[49m\u001b[38;5;241;43m=\u001b[39;49m\u001b[43mretry_state\u001b[49m\u001b[43m)\u001b[49m\n\u001b[0;32m    436\u001b[0m     \u001b[38;5;28;01mif\u001b[39;00m \u001b[38;5;28misinstance\u001b[39m(do, DoAttempt):\n\u001b[0;32m    437\u001b[0m         \u001b[38;5;28;01myield\u001b[39;00m AttemptManager(retry_state\u001b[38;5;241m=\u001b[39mretry_state)\n",
      "File \u001b[1;32mc:\\Users\\alext\\miniconda3\\envs\\cs685\\Lib\\site-packages\\tenacity\\__init__.py:368\u001b[0m, in \u001b[0;36mBaseRetrying.iter\u001b[1;34m(self, retry_state)\u001b[0m\n\u001b[0;32m    366\u001b[0m result \u001b[38;5;241m=\u001b[39m \u001b[38;5;28;01mNone\u001b[39;00m\n\u001b[0;32m    367\u001b[0m \u001b[38;5;28;01mfor\u001b[39;00m action \u001b[38;5;129;01min\u001b[39;00m \u001b[38;5;28mself\u001b[39m\u001b[38;5;241m.\u001b[39miter_state\u001b[38;5;241m.\u001b[39mactions:\n\u001b[1;32m--> 368\u001b[0m     result \u001b[38;5;241m=\u001b[39m \u001b[43maction\u001b[49m\u001b[43m(\u001b[49m\u001b[43mretry_state\u001b[49m\u001b[43m)\u001b[49m\n\u001b[0;32m    369\u001b[0m \u001b[38;5;28;01mreturn\u001b[39;00m result\n",
      "File \u001b[1;32mc:\\Users\\alext\\miniconda3\\envs\\cs685\\Lib\\site-packages\\tenacity\\__init__.py:410\u001b[0m, in \u001b[0;36mBaseRetrying._post_stop_check_actions.<locals>.exc_check\u001b[1;34m(rs)\u001b[0m\n\u001b[0;32m    408\u001b[0m retry_exc \u001b[38;5;241m=\u001b[39m \u001b[38;5;28mself\u001b[39m\u001b[38;5;241m.\u001b[39mretry_error_cls(fut)\n\u001b[0;32m    409\u001b[0m \u001b[38;5;28;01mif\u001b[39;00m \u001b[38;5;28mself\u001b[39m\u001b[38;5;241m.\u001b[39mreraise:\n\u001b[1;32m--> 410\u001b[0m     \u001b[38;5;28;01mraise\u001b[39;00m \u001b[43mretry_exc\u001b[49m\u001b[38;5;241;43m.\u001b[39;49m\u001b[43mreraise\u001b[49m\u001b[43m(\u001b[49m\u001b[43m)\u001b[49m\n\u001b[0;32m    411\u001b[0m \u001b[38;5;28;01mraise\u001b[39;00m retry_exc \u001b[38;5;28;01mfrom\u001b[39;00m \u001b[38;5;21;01mfut\u001b[39;00m\u001b[38;5;21;01m.\u001b[39;00m\u001b[38;5;21;01mexception\u001b[39;00m()\n",
      "File \u001b[1;32mc:\\Users\\alext\\miniconda3\\envs\\cs685\\Lib\\site-packages\\tenacity\\__init__.py:183\u001b[0m, in \u001b[0;36mRetryError.reraise\u001b[1;34m(self)\u001b[0m\n\u001b[0;32m    181\u001b[0m \u001b[38;5;28;01mdef\u001b[39;00m \u001b[38;5;21mreraise\u001b[39m(\u001b[38;5;28mself\u001b[39m) \u001b[38;5;241m-\u001b[39m\u001b[38;5;241m>\u001b[39m t\u001b[38;5;241m.\u001b[39mNoReturn:\n\u001b[0;32m    182\u001b[0m     \u001b[38;5;28;01mif\u001b[39;00m \u001b[38;5;28mself\u001b[39m\u001b[38;5;241m.\u001b[39mlast_attempt\u001b[38;5;241m.\u001b[39mfailed:\n\u001b[1;32m--> 183\u001b[0m         \u001b[38;5;28;01mraise\u001b[39;00m \u001b[38;5;28;43mself\u001b[39;49m\u001b[38;5;241;43m.\u001b[39;49m\u001b[43mlast_attempt\u001b[49m\u001b[38;5;241;43m.\u001b[39;49m\u001b[43mresult\u001b[49m\u001b[43m(\u001b[49m\u001b[43m)\u001b[49m\n\u001b[0;32m    184\u001b[0m     \u001b[38;5;28;01mraise\u001b[39;00m \u001b[38;5;28mself\u001b[39m\n",
      "File \u001b[1;32mc:\\Users\\alext\\miniconda3\\envs\\cs685\\Lib\\concurrent\\futures\\_base.py:449\u001b[0m, in \u001b[0;36mFuture.result\u001b[1;34m(self, timeout)\u001b[0m\n\u001b[0;32m    447\u001b[0m     \u001b[38;5;28;01mraise\u001b[39;00m CancelledError()\n\u001b[0;32m    448\u001b[0m \u001b[38;5;28;01melif\u001b[39;00m \u001b[38;5;28mself\u001b[39m\u001b[38;5;241m.\u001b[39m_state \u001b[38;5;241m==\u001b[39m FINISHED:\n\u001b[1;32m--> 449\u001b[0m     \u001b[38;5;28;01mreturn\u001b[39;00m \u001b[38;5;28;43mself\u001b[39;49m\u001b[38;5;241;43m.\u001b[39;49m\u001b[43m__get_result\u001b[49m\u001b[43m(\u001b[49m\u001b[43m)\u001b[49m\n\u001b[0;32m    451\u001b[0m \u001b[38;5;28mself\u001b[39m\u001b[38;5;241m.\u001b[39m_condition\u001b[38;5;241m.\u001b[39mwait(timeout)\n\u001b[0;32m    453\u001b[0m \u001b[38;5;28;01mif\u001b[39;00m \u001b[38;5;28mself\u001b[39m\u001b[38;5;241m.\u001b[39m_state \u001b[38;5;129;01min\u001b[39;00m [CANCELLED, CANCELLED_AND_NOTIFIED]:\n",
      "File \u001b[1;32mc:\\Users\\alext\\miniconda3\\envs\\cs685\\Lib\\concurrent\\futures\\_base.py:401\u001b[0m, in \u001b[0;36mFuture.__get_result\u001b[1;34m(self)\u001b[0m\n\u001b[0;32m    399\u001b[0m \u001b[38;5;28;01mif\u001b[39;00m \u001b[38;5;28mself\u001b[39m\u001b[38;5;241m.\u001b[39m_exception:\n\u001b[0;32m    400\u001b[0m     \u001b[38;5;28;01mtry\u001b[39;00m:\n\u001b[1;32m--> 401\u001b[0m         \u001b[38;5;28;01mraise\u001b[39;00m \u001b[38;5;28mself\u001b[39m\u001b[38;5;241m.\u001b[39m_exception\n\u001b[0;32m    402\u001b[0m     \u001b[38;5;28;01mfinally\u001b[39;00m:\n\u001b[0;32m    403\u001b[0m         \u001b[38;5;66;03m# Break a reference cycle with the exception in self._exception\u001b[39;00m\n\u001b[0;32m    404\u001b[0m         \u001b[38;5;28mself\u001b[39m \u001b[38;5;241m=\u001b[39m \u001b[38;5;28;01mNone\u001b[39;00m\n",
      "File \u001b[1;32mc:\\Users\\alext\\miniconda3\\envs\\cs685\\Lib\\site-packages\\instructor\\retry.py:155\u001b[0m, in \u001b[0;36mretry_sync\u001b[1;34m(func, response_model, validation_context, args, kwargs, max_retries, strict, mode)\u001b[0m\n\u001b[0;32m    153\u001b[0m \u001b[38;5;28;01mwith\u001b[39;00m attempt:\n\u001b[0;32m    154\u001b[0m     \u001b[38;5;28;01mtry\u001b[39;00m:\n\u001b[1;32m--> 155\u001b[0m         response \u001b[38;5;241m=\u001b[39m \u001b[43mfunc\u001b[49m\u001b[43m(\u001b[49m\u001b[38;5;241;43m*\u001b[39;49m\u001b[43margs\u001b[49m\u001b[43m,\u001b[49m\u001b[43m \u001b[49m\u001b[38;5;241;43m*\u001b[39;49m\u001b[38;5;241;43m*\u001b[39;49m\u001b[43mkwargs\u001b[49m\u001b[43m)\u001b[49m\n\u001b[0;32m    156\u001b[0m         stream \u001b[38;5;241m=\u001b[39m kwargs\u001b[38;5;241m.\u001b[39mget(\u001b[38;5;124m\"\u001b[39m\u001b[38;5;124mstream\u001b[39m\u001b[38;5;124m\"\u001b[39m, \u001b[38;5;28;01mFalse\u001b[39;00m)\n\u001b[0;32m    157\u001b[0m         response \u001b[38;5;241m=\u001b[39m update_total_usage(response, total_usage)\n",
      "File \u001b[1;32mc:\\Users\\alext\\miniconda3\\envs\\cs685\\Lib\\site-packages\\openai\\_utils\\_utils.py:277\u001b[0m, in \u001b[0;36mrequired_args.<locals>.inner.<locals>.wrapper\u001b[1;34m(*args, **kwargs)\u001b[0m\n\u001b[0;32m    275\u001b[0m             msg \u001b[38;5;241m=\u001b[39m \u001b[38;5;124mf\u001b[39m\u001b[38;5;124m\"\u001b[39m\u001b[38;5;124mMissing required argument: \u001b[39m\u001b[38;5;132;01m{\u001b[39;00mquote(missing[\u001b[38;5;241m0\u001b[39m])\u001b[38;5;132;01m}\u001b[39;00m\u001b[38;5;124m\"\u001b[39m\n\u001b[0;32m    276\u001b[0m     \u001b[38;5;28;01mraise\u001b[39;00m \u001b[38;5;167;01mTypeError\u001b[39;00m(msg)\n\u001b[1;32m--> 277\u001b[0m \u001b[38;5;28;01mreturn\u001b[39;00m \u001b[43mfunc\u001b[49m\u001b[43m(\u001b[49m\u001b[38;5;241;43m*\u001b[39;49m\u001b[43margs\u001b[49m\u001b[43m,\u001b[49m\u001b[43m \u001b[49m\u001b[38;5;241;43m*\u001b[39;49m\u001b[38;5;241;43m*\u001b[39;49m\u001b[43mkwargs\u001b[49m\u001b[43m)\u001b[49m\n",
      "File \u001b[1;32mc:\\Users\\alext\\miniconda3\\envs\\cs685\\Lib\\site-packages\\openai\\resources\\chat\\completions.py:590\u001b[0m, in \u001b[0;36mCompletions.create\u001b[1;34m(self, messages, model, frequency_penalty, function_call, functions, logit_bias, logprobs, max_tokens, n, presence_penalty, response_format, seed, stop, stream, stream_options, temperature, tool_choice, tools, top_logprobs, top_p, user, extra_headers, extra_query, extra_body, timeout)\u001b[0m\n\u001b[0;32m    558\u001b[0m \u001b[38;5;129m@required_args\u001b[39m([\u001b[38;5;124m\"\u001b[39m\u001b[38;5;124mmessages\u001b[39m\u001b[38;5;124m\"\u001b[39m, \u001b[38;5;124m\"\u001b[39m\u001b[38;5;124mmodel\u001b[39m\u001b[38;5;124m\"\u001b[39m], [\u001b[38;5;124m\"\u001b[39m\u001b[38;5;124mmessages\u001b[39m\u001b[38;5;124m\"\u001b[39m, \u001b[38;5;124m\"\u001b[39m\u001b[38;5;124mmodel\u001b[39m\u001b[38;5;124m\"\u001b[39m, \u001b[38;5;124m\"\u001b[39m\u001b[38;5;124mstream\u001b[39m\u001b[38;5;124m\"\u001b[39m])\n\u001b[0;32m    559\u001b[0m \u001b[38;5;28;01mdef\u001b[39;00m \u001b[38;5;21mcreate\u001b[39m(\n\u001b[0;32m    560\u001b[0m     \u001b[38;5;28mself\u001b[39m,\n\u001b[1;32m   (...)\u001b[0m\n\u001b[0;32m    588\u001b[0m     timeout: \u001b[38;5;28mfloat\u001b[39m \u001b[38;5;241m|\u001b[39m httpx\u001b[38;5;241m.\u001b[39mTimeout \u001b[38;5;241m|\u001b[39m \u001b[38;5;28;01mNone\u001b[39;00m \u001b[38;5;241m|\u001b[39m NotGiven \u001b[38;5;241m=\u001b[39m NOT_GIVEN,\n\u001b[0;32m    589\u001b[0m ) \u001b[38;5;241m-\u001b[39m\u001b[38;5;241m>\u001b[39m ChatCompletion \u001b[38;5;241m|\u001b[39m Stream[ChatCompletionChunk]:\n\u001b[1;32m--> 590\u001b[0m     \u001b[38;5;28;01mreturn\u001b[39;00m \u001b[38;5;28;43mself\u001b[39;49m\u001b[38;5;241;43m.\u001b[39;49m\u001b[43m_post\u001b[49m\u001b[43m(\u001b[49m\n\u001b[0;32m    591\u001b[0m \u001b[43m        \u001b[49m\u001b[38;5;124;43m\"\u001b[39;49m\u001b[38;5;124;43m/chat/completions\u001b[39;49m\u001b[38;5;124;43m\"\u001b[39;49m\u001b[43m,\u001b[49m\n\u001b[0;32m    592\u001b[0m \u001b[43m        \u001b[49m\u001b[43mbody\u001b[49m\u001b[38;5;241;43m=\u001b[39;49m\u001b[43mmaybe_transform\u001b[49m\u001b[43m(\u001b[49m\n\u001b[0;32m    593\u001b[0m \u001b[43m            \u001b[49m\u001b[43m{\u001b[49m\n\u001b[0;32m    594\u001b[0m \u001b[43m                \u001b[49m\u001b[38;5;124;43m\"\u001b[39;49m\u001b[38;5;124;43mmessages\u001b[39;49m\u001b[38;5;124;43m\"\u001b[39;49m\u001b[43m:\u001b[49m\u001b[43m \u001b[49m\u001b[43mmessages\u001b[49m\u001b[43m,\u001b[49m\n\u001b[0;32m    595\u001b[0m \u001b[43m                \u001b[49m\u001b[38;5;124;43m\"\u001b[39;49m\u001b[38;5;124;43mmodel\u001b[39;49m\u001b[38;5;124;43m\"\u001b[39;49m\u001b[43m:\u001b[49m\u001b[43m \u001b[49m\u001b[43mmodel\u001b[49m\u001b[43m,\u001b[49m\n\u001b[0;32m    596\u001b[0m \u001b[43m                \u001b[49m\u001b[38;5;124;43m\"\u001b[39;49m\u001b[38;5;124;43mfrequency_penalty\u001b[39;49m\u001b[38;5;124;43m\"\u001b[39;49m\u001b[43m:\u001b[49m\u001b[43m \u001b[49m\u001b[43mfrequency_penalty\u001b[49m\u001b[43m,\u001b[49m\n\u001b[0;32m    597\u001b[0m \u001b[43m                \u001b[49m\u001b[38;5;124;43m\"\u001b[39;49m\u001b[38;5;124;43mfunction_call\u001b[39;49m\u001b[38;5;124;43m\"\u001b[39;49m\u001b[43m:\u001b[49m\u001b[43m \u001b[49m\u001b[43mfunction_call\u001b[49m\u001b[43m,\u001b[49m\n\u001b[0;32m    598\u001b[0m \u001b[43m                \u001b[49m\u001b[38;5;124;43m\"\u001b[39;49m\u001b[38;5;124;43mfunctions\u001b[39;49m\u001b[38;5;124;43m\"\u001b[39;49m\u001b[43m:\u001b[49m\u001b[43m \u001b[49m\u001b[43mfunctions\u001b[49m\u001b[43m,\u001b[49m\n\u001b[0;32m    599\u001b[0m \u001b[43m                \u001b[49m\u001b[38;5;124;43m\"\u001b[39;49m\u001b[38;5;124;43mlogit_bias\u001b[39;49m\u001b[38;5;124;43m\"\u001b[39;49m\u001b[43m:\u001b[49m\u001b[43m \u001b[49m\u001b[43mlogit_bias\u001b[49m\u001b[43m,\u001b[49m\n\u001b[0;32m    600\u001b[0m \u001b[43m                \u001b[49m\u001b[38;5;124;43m\"\u001b[39;49m\u001b[38;5;124;43mlogprobs\u001b[39;49m\u001b[38;5;124;43m\"\u001b[39;49m\u001b[43m:\u001b[49m\u001b[43m \u001b[49m\u001b[43mlogprobs\u001b[49m\u001b[43m,\u001b[49m\n\u001b[0;32m    601\u001b[0m \u001b[43m                \u001b[49m\u001b[38;5;124;43m\"\u001b[39;49m\u001b[38;5;124;43mmax_tokens\u001b[39;49m\u001b[38;5;124;43m\"\u001b[39;49m\u001b[43m:\u001b[49m\u001b[43m \u001b[49m\u001b[43mmax_tokens\u001b[49m\u001b[43m,\u001b[49m\n\u001b[0;32m    602\u001b[0m \u001b[43m                \u001b[49m\u001b[38;5;124;43m\"\u001b[39;49m\u001b[38;5;124;43mn\u001b[39;49m\u001b[38;5;124;43m\"\u001b[39;49m\u001b[43m:\u001b[49m\u001b[43m \u001b[49m\u001b[43mn\u001b[49m\u001b[43m,\u001b[49m\n\u001b[0;32m    603\u001b[0m \u001b[43m                \u001b[49m\u001b[38;5;124;43m\"\u001b[39;49m\u001b[38;5;124;43mpresence_penalty\u001b[39;49m\u001b[38;5;124;43m\"\u001b[39;49m\u001b[43m:\u001b[49m\u001b[43m \u001b[49m\u001b[43mpresence_penalty\u001b[49m\u001b[43m,\u001b[49m\n\u001b[0;32m    604\u001b[0m \u001b[43m                \u001b[49m\u001b[38;5;124;43m\"\u001b[39;49m\u001b[38;5;124;43mresponse_format\u001b[39;49m\u001b[38;5;124;43m\"\u001b[39;49m\u001b[43m:\u001b[49m\u001b[43m \u001b[49m\u001b[43mresponse_format\u001b[49m\u001b[43m,\u001b[49m\n\u001b[0;32m    605\u001b[0m \u001b[43m                \u001b[49m\u001b[38;5;124;43m\"\u001b[39;49m\u001b[38;5;124;43mseed\u001b[39;49m\u001b[38;5;124;43m\"\u001b[39;49m\u001b[43m:\u001b[49m\u001b[43m \u001b[49m\u001b[43mseed\u001b[49m\u001b[43m,\u001b[49m\n\u001b[0;32m    606\u001b[0m \u001b[43m                \u001b[49m\u001b[38;5;124;43m\"\u001b[39;49m\u001b[38;5;124;43mstop\u001b[39;49m\u001b[38;5;124;43m\"\u001b[39;49m\u001b[43m:\u001b[49m\u001b[43m \u001b[49m\u001b[43mstop\u001b[49m\u001b[43m,\u001b[49m\n\u001b[0;32m    607\u001b[0m \u001b[43m                \u001b[49m\u001b[38;5;124;43m\"\u001b[39;49m\u001b[38;5;124;43mstream\u001b[39;49m\u001b[38;5;124;43m\"\u001b[39;49m\u001b[43m:\u001b[49m\u001b[43m \u001b[49m\u001b[43mstream\u001b[49m\u001b[43m,\u001b[49m\n\u001b[0;32m    608\u001b[0m \u001b[43m                \u001b[49m\u001b[38;5;124;43m\"\u001b[39;49m\u001b[38;5;124;43mstream_options\u001b[39;49m\u001b[38;5;124;43m\"\u001b[39;49m\u001b[43m:\u001b[49m\u001b[43m \u001b[49m\u001b[43mstream_options\u001b[49m\u001b[43m,\u001b[49m\n\u001b[0;32m    609\u001b[0m \u001b[43m                \u001b[49m\u001b[38;5;124;43m\"\u001b[39;49m\u001b[38;5;124;43mtemperature\u001b[39;49m\u001b[38;5;124;43m\"\u001b[39;49m\u001b[43m:\u001b[49m\u001b[43m \u001b[49m\u001b[43mtemperature\u001b[49m\u001b[43m,\u001b[49m\n\u001b[0;32m    610\u001b[0m \u001b[43m                \u001b[49m\u001b[38;5;124;43m\"\u001b[39;49m\u001b[38;5;124;43mtool_choice\u001b[39;49m\u001b[38;5;124;43m\"\u001b[39;49m\u001b[43m:\u001b[49m\u001b[43m \u001b[49m\u001b[43mtool_choice\u001b[49m\u001b[43m,\u001b[49m\n\u001b[0;32m    611\u001b[0m \u001b[43m                \u001b[49m\u001b[38;5;124;43m\"\u001b[39;49m\u001b[38;5;124;43mtools\u001b[39;49m\u001b[38;5;124;43m\"\u001b[39;49m\u001b[43m:\u001b[49m\u001b[43m \u001b[49m\u001b[43mtools\u001b[49m\u001b[43m,\u001b[49m\n\u001b[0;32m    612\u001b[0m \u001b[43m                \u001b[49m\u001b[38;5;124;43m\"\u001b[39;49m\u001b[38;5;124;43mtop_logprobs\u001b[39;49m\u001b[38;5;124;43m\"\u001b[39;49m\u001b[43m:\u001b[49m\u001b[43m \u001b[49m\u001b[43mtop_logprobs\u001b[49m\u001b[43m,\u001b[49m\n\u001b[0;32m    613\u001b[0m \u001b[43m                \u001b[49m\u001b[38;5;124;43m\"\u001b[39;49m\u001b[38;5;124;43mtop_p\u001b[39;49m\u001b[38;5;124;43m\"\u001b[39;49m\u001b[43m:\u001b[49m\u001b[43m \u001b[49m\u001b[43mtop_p\u001b[49m\u001b[43m,\u001b[49m\n\u001b[0;32m    614\u001b[0m \u001b[43m                \u001b[49m\u001b[38;5;124;43m\"\u001b[39;49m\u001b[38;5;124;43muser\u001b[39;49m\u001b[38;5;124;43m\"\u001b[39;49m\u001b[43m:\u001b[49m\u001b[43m \u001b[49m\u001b[43muser\u001b[49m\u001b[43m,\u001b[49m\n\u001b[0;32m    615\u001b[0m \u001b[43m            \u001b[49m\u001b[43m}\u001b[49m\u001b[43m,\u001b[49m\n\u001b[0;32m    616\u001b[0m \u001b[43m            \u001b[49m\u001b[43mcompletion_create_params\u001b[49m\u001b[38;5;241;43m.\u001b[39;49m\u001b[43mCompletionCreateParams\u001b[49m\u001b[43m,\u001b[49m\n\u001b[0;32m    617\u001b[0m \u001b[43m        \u001b[49m\u001b[43m)\u001b[49m\u001b[43m,\u001b[49m\n\u001b[0;32m    618\u001b[0m \u001b[43m        \u001b[49m\u001b[43moptions\u001b[49m\u001b[38;5;241;43m=\u001b[39;49m\u001b[43mmake_request_options\u001b[49m\u001b[43m(\u001b[49m\n\u001b[0;32m    619\u001b[0m \u001b[43m            \u001b[49m\u001b[43mextra_headers\u001b[49m\u001b[38;5;241;43m=\u001b[39;49m\u001b[43mextra_headers\u001b[49m\u001b[43m,\u001b[49m\u001b[43m \u001b[49m\u001b[43mextra_query\u001b[49m\u001b[38;5;241;43m=\u001b[39;49m\u001b[43mextra_query\u001b[49m\u001b[43m,\u001b[49m\u001b[43m \u001b[49m\u001b[43mextra_body\u001b[49m\u001b[38;5;241;43m=\u001b[39;49m\u001b[43mextra_body\u001b[49m\u001b[43m,\u001b[49m\u001b[43m \u001b[49m\u001b[43mtimeout\u001b[49m\u001b[38;5;241;43m=\u001b[39;49m\u001b[43mtimeout\u001b[49m\n\u001b[0;32m    620\u001b[0m \u001b[43m        \u001b[49m\u001b[43m)\u001b[49m\u001b[43m,\u001b[49m\n\u001b[0;32m    621\u001b[0m \u001b[43m        \u001b[49m\u001b[43mcast_to\u001b[49m\u001b[38;5;241;43m=\u001b[39;49m\u001b[43mChatCompletion\u001b[49m\u001b[43m,\u001b[49m\n\u001b[0;32m    622\u001b[0m \u001b[43m        \u001b[49m\u001b[43mstream\u001b[49m\u001b[38;5;241;43m=\u001b[39;49m\u001b[43mstream\u001b[49m\u001b[43m \u001b[49m\u001b[38;5;129;43;01mor\u001b[39;49;00m\u001b[43m \u001b[49m\u001b[38;5;28;43;01mFalse\u001b[39;49;00m\u001b[43m,\u001b[49m\n\u001b[0;32m    623\u001b[0m \u001b[43m        \u001b[49m\u001b[43mstream_cls\u001b[49m\u001b[38;5;241;43m=\u001b[39;49m\u001b[43mStream\u001b[49m\u001b[43m[\u001b[49m\u001b[43mChatCompletionChunk\u001b[49m\u001b[43m]\u001b[49m\u001b[43m,\u001b[49m\n\u001b[0;32m    624\u001b[0m \u001b[43m    \u001b[49m\u001b[43m)\u001b[49m\n",
      "File \u001b[1;32mc:\\Users\\alext\\miniconda3\\envs\\cs685\\Lib\\site-packages\\openai\\_base_client.py:1240\u001b[0m, in \u001b[0;36mSyncAPIClient.post\u001b[1;34m(self, path, cast_to, body, options, files, stream, stream_cls)\u001b[0m\n\u001b[0;32m   1226\u001b[0m \u001b[38;5;28;01mdef\u001b[39;00m \u001b[38;5;21mpost\u001b[39m(\n\u001b[0;32m   1227\u001b[0m     \u001b[38;5;28mself\u001b[39m,\n\u001b[0;32m   1228\u001b[0m     path: \u001b[38;5;28mstr\u001b[39m,\n\u001b[1;32m   (...)\u001b[0m\n\u001b[0;32m   1235\u001b[0m     stream_cls: \u001b[38;5;28mtype\u001b[39m[_StreamT] \u001b[38;5;241m|\u001b[39m \u001b[38;5;28;01mNone\u001b[39;00m \u001b[38;5;241m=\u001b[39m \u001b[38;5;28;01mNone\u001b[39;00m,\n\u001b[0;32m   1236\u001b[0m ) \u001b[38;5;241m-\u001b[39m\u001b[38;5;241m>\u001b[39m ResponseT \u001b[38;5;241m|\u001b[39m _StreamT:\n\u001b[0;32m   1237\u001b[0m     opts \u001b[38;5;241m=\u001b[39m FinalRequestOptions\u001b[38;5;241m.\u001b[39mconstruct(\n\u001b[0;32m   1238\u001b[0m         method\u001b[38;5;241m=\u001b[39m\u001b[38;5;124m\"\u001b[39m\u001b[38;5;124mpost\u001b[39m\u001b[38;5;124m\"\u001b[39m, url\u001b[38;5;241m=\u001b[39mpath, json_data\u001b[38;5;241m=\u001b[39mbody, files\u001b[38;5;241m=\u001b[39mto_httpx_files(files), \u001b[38;5;241m*\u001b[39m\u001b[38;5;241m*\u001b[39moptions\n\u001b[0;32m   1239\u001b[0m     )\n\u001b[1;32m-> 1240\u001b[0m     \u001b[38;5;28;01mreturn\u001b[39;00m cast(ResponseT, \u001b[38;5;28;43mself\u001b[39;49m\u001b[38;5;241;43m.\u001b[39;49m\u001b[43mrequest\u001b[49m\u001b[43m(\u001b[49m\u001b[43mcast_to\u001b[49m\u001b[43m,\u001b[49m\u001b[43m \u001b[49m\u001b[43mopts\u001b[49m\u001b[43m,\u001b[49m\u001b[43m \u001b[49m\u001b[43mstream\u001b[49m\u001b[38;5;241;43m=\u001b[39;49m\u001b[43mstream\u001b[49m\u001b[43m,\u001b[49m\u001b[43m \u001b[49m\u001b[43mstream_cls\u001b[49m\u001b[38;5;241;43m=\u001b[39;49m\u001b[43mstream_cls\u001b[49m\u001b[43m)\u001b[49m)\n",
      "File \u001b[1;32mc:\\Users\\alext\\miniconda3\\envs\\cs685\\Lib\\site-packages\\openai\\_base_client.py:921\u001b[0m, in \u001b[0;36mSyncAPIClient.request\u001b[1;34m(self, cast_to, options, remaining_retries, stream, stream_cls)\u001b[0m\n\u001b[0;32m    912\u001b[0m \u001b[38;5;28;01mdef\u001b[39;00m \u001b[38;5;21mrequest\u001b[39m(\n\u001b[0;32m    913\u001b[0m     \u001b[38;5;28mself\u001b[39m,\n\u001b[0;32m    914\u001b[0m     cast_to: Type[ResponseT],\n\u001b[1;32m   (...)\u001b[0m\n\u001b[0;32m    919\u001b[0m     stream_cls: \u001b[38;5;28mtype\u001b[39m[_StreamT] \u001b[38;5;241m|\u001b[39m \u001b[38;5;28;01mNone\u001b[39;00m \u001b[38;5;241m=\u001b[39m \u001b[38;5;28;01mNone\u001b[39;00m,\n\u001b[0;32m    920\u001b[0m ) \u001b[38;5;241m-\u001b[39m\u001b[38;5;241m>\u001b[39m ResponseT \u001b[38;5;241m|\u001b[39m _StreamT:\n\u001b[1;32m--> 921\u001b[0m     \u001b[38;5;28;01mreturn\u001b[39;00m \u001b[38;5;28;43mself\u001b[39;49m\u001b[38;5;241;43m.\u001b[39;49m\u001b[43m_request\u001b[49m\u001b[43m(\u001b[49m\n\u001b[0;32m    922\u001b[0m \u001b[43m        \u001b[49m\u001b[43mcast_to\u001b[49m\u001b[38;5;241;43m=\u001b[39;49m\u001b[43mcast_to\u001b[49m\u001b[43m,\u001b[49m\n\u001b[0;32m    923\u001b[0m \u001b[43m        \u001b[49m\u001b[43moptions\u001b[49m\u001b[38;5;241;43m=\u001b[39;49m\u001b[43moptions\u001b[49m\u001b[43m,\u001b[49m\n\u001b[0;32m    924\u001b[0m \u001b[43m        \u001b[49m\u001b[43mstream\u001b[49m\u001b[38;5;241;43m=\u001b[39;49m\u001b[43mstream\u001b[49m\u001b[43m,\u001b[49m\n\u001b[0;32m    925\u001b[0m \u001b[43m        \u001b[49m\u001b[43mstream_cls\u001b[49m\u001b[38;5;241;43m=\u001b[39;49m\u001b[43mstream_cls\u001b[49m\u001b[43m,\u001b[49m\n\u001b[0;32m    926\u001b[0m \u001b[43m        \u001b[49m\u001b[43mremaining_retries\u001b[49m\u001b[38;5;241;43m=\u001b[39;49m\u001b[43mremaining_retries\u001b[49m\u001b[43m,\u001b[49m\n\u001b[0;32m    927\u001b[0m \u001b[43m    \u001b[49m\u001b[43m)\u001b[49m\n",
      "File \u001b[1;32mc:\\Users\\alext\\miniconda3\\envs\\cs685\\Lib\\site-packages\\openai\\_base_client.py:1020\u001b[0m, in \u001b[0;36mSyncAPIClient._request\u001b[1;34m(self, cast_to, options, remaining_retries, stream, stream_cls)\u001b[0m\n\u001b[0;32m   1017\u001b[0m         err\u001b[38;5;241m.\u001b[39mresponse\u001b[38;5;241m.\u001b[39mread()\n\u001b[0;32m   1019\u001b[0m     log\u001b[38;5;241m.\u001b[39mdebug(\u001b[38;5;124m\"\u001b[39m\u001b[38;5;124mRe-raising status error\u001b[39m\u001b[38;5;124m\"\u001b[39m)\n\u001b[1;32m-> 1020\u001b[0m     \u001b[38;5;28;01mraise\u001b[39;00m \u001b[38;5;28mself\u001b[39m\u001b[38;5;241m.\u001b[39m_make_status_error_from_response(err\u001b[38;5;241m.\u001b[39mresponse) \u001b[38;5;28;01mfrom\u001b[39;00m \u001b[38;5;28;01mNone\u001b[39;00m\n\u001b[0;32m   1022\u001b[0m \u001b[38;5;28;01mreturn\u001b[39;00m \u001b[38;5;28mself\u001b[39m\u001b[38;5;241m.\u001b[39m_process_response(\n\u001b[0;32m   1023\u001b[0m     cast_to\u001b[38;5;241m=\u001b[39mcast_to,\n\u001b[0;32m   1024\u001b[0m     options\u001b[38;5;241m=\u001b[39moptions,\n\u001b[1;32m   (...)\u001b[0m\n\u001b[0;32m   1027\u001b[0m     stream_cls\u001b[38;5;241m=\u001b[39mstream_cls,\n\u001b[0;32m   1028\u001b[0m )\n",
      "\u001b[1;31mBadRequestError\u001b[0m: Error code: 400 - {'error': {'message': \"Invalid schema for function 'Report_Pair_eval': '' is not valid under any of the given schemas. (request id: 202405162020143452974734WHWMGuT)\", 'type': 'invalid_request_error', 'param': '', 'code': None}}"
     ]
    }
   ],
   "source": [
    "#### GPT-4\n",
    "client = instructor.from_openai(OpenAI(api_key = os.environ[\"OPENAI_API_KEY\"],base_url = os.environ[\"OPENAI_API_BASE\"]))\n",
    "\n",
    "#### get evaluation\n",
    "report_pair_eval_df = pd.DataFrame()\n",
    "report = pd.DataFrame()\n",
    "for i in tqdm(range(len(questions))):\n",
    "    content = question_template.format(\n",
    "        question=questions[i],\n",
    "        gold_answer=references[i],\n",
    "        model_a_answer=ll3_predictions[i],\n",
    "        model_b_answer=mp2_predictions[i]) \n",
    "    # content += additional_instructions \n",
    "    \n",
    "    response = client.chat.completions.create(\n",
    "        model=model, \n",
    "        response_model = Report_Pair_eval,\n",
    "        messages=[{\"role\": \"user\", \"content\": content}],\n",
    "        temperature = 0,\n",
    "    )\n",
    "    \n",
    "    report_pair_eval_df = pd.concat([report_pair_eval_df, pd.DataFrame([response.dict()])], ignore_index=True)\n",
    "    if (i+1)%10 == 0:\n",
    "        print(\"-----------------------eval complete for \", i+1, \"predictions---------------------\")"
   ]
  },
  {
   "cell_type": "markdown",
   "id": "84577d95-ad60-45ec-bb16-dd334c2b6a73",
   "metadata": {},
   "source": [
    "### Results (Llama-3 and MedPalm-2 against gold answer simultaneously) "
   ]
  },
  {
   "cell_type": "code",
   "execution_count": null,
   "id": "f2cb36b8-60df-456c-91c5-61866d0270e9",
   "metadata": {},
   "outputs": [
    {
     "data": {
      "text/plain": [
       "{'model': 'Llama-3',\n",
       " 'correctness': '8',\n",
       " 'coherence': '7',\n",
       " 'naturalness': '6',\n",
       " 'completeness': '8',\n",
       " 'reason': 'Llama-3 provides a detailed explanation of the causes of PCOS, mentioning insulin resistance, high androgens, and obesity. The answer is coherent and logically flows from one point to another. However, there are some areas where the answer could be more natural and comprehensive.'}"
      ]
     },
     "execution_count": 11,
     "metadata": {},
     "output_type": "execute_result"
    }
   ],
   "source": [
    "report_pair_eval_df.loc[1][\"modelA\"]"
   ]
  },
  {
   "cell_type": "code",
   "execution_count": null,
   "id": "0a2c398e-68c0-4be2-9f28-e8b1e8baef85",
   "metadata": {},
   "outputs": [
    {
     "data": {
      "text/plain": [
       "{'model': 'MedPal-2',\n",
       " 'correctness': '7',\n",
       " 'coherence': '8',\n",
       " 'naturalness': '7',\n",
       " 'completeness': '7',\n",
       " 'reason': 'MedPal-2 also provides a comprehensive explanation of the causes of PCOS, mentioning genetic, environmental, and lifestyle factors. The answer is coherent and aligns well with prior knowledge. However, it lacks some details provided by Llama-3 and the gold answer.'}"
      ]
     },
     "execution_count": 12,
     "metadata": {},
     "output_type": "execute_result"
    }
   ],
   "source": [
    "report_pair_eval_df.loc[1][\"modelB\"]"
   ]
  },
  {
   "cell_type": "code",
   "execution_count": null,
   "id": "f70f11e2-9c1f-4062-b255-eac05786b86c",
   "metadata": {},
   "outputs": [
    {
     "data": {
      "text/plain": [
       "'Llama-3'"
      ]
     },
     "execution_count": 13,
     "metadata": {},
     "output_type": "execute_result"
    }
   ],
   "source": [
    "report_pair_eval_df.loc[1][\"winner\"]"
   ]
  },
  {
   "cell_type": "code",
   "execution_count": null,
   "id": "fa26fdf8-eac5-4ab7-b9e3-70ab11a5103c",
   "metadata": {},
   "outputs": [
    {
     "data": {
      "text/plain": [
       "'Llama-3 provides a more detailed explanation of the causes of Polycystic ovary syndrome, mentioning insulin resistance, high androgens, and obesity as contributing factors. It also explains the roles of insulin, androgens, and obesity in the development of PCOS. The answer is aligned with the gold answer in terms of mentioning hormonal imbalances and insulin resistance.'"
      ]
     },
     "execution_count": 14,
     "metadata": {},
     "output_type": "execute_result"
    }
   ],
   "source": [
    "report_pair_eval_df.loc[1][\"winner_reason\"]"
   ]
  },
  {
   "cell_type": "markdown",
   "id": "2267a005-ad96-461f-a59c-f5bcef9491bd",
   "metadata": {},
   "source": [
    "### Save results as .csv file"
   ]
  },
  {
   "cell_type": "code",
   "execution_count": null,
   "id": "a1f3946a-4e2c-4f14-8485-8abbc063887d",
   "metadata": {},
   "outputs": [],
   "source": [
    "path_file = f\"../output/ab_test_{model}_{num_ele}_pairs.csv\"\n",
    "report_pair_eval_df.to_csv(path_file, index=False)"
   ]
  },
  {
   "cell_type": "code",
   "execution_count": null,
   "id": "8c68d9ee-286d-4386-9151-30ff5f12f5e2",
   "metadata": {},
   "outputs": [
    {
     "name": "stdout",
     "output_type": "stream",
     "text": [
      "Push the output file created or send it to me via email\n"
     ]
    }
   ],
   "source": [
    "ab_test = pd.read_csv(path_file)\n",
    "ab_test\n",
    "print(\"Push the output file created or send it to me via email\")"
   ]
  },
  {
   "cell_type": "code",
   "execution_count": null,
   "id": "4ef32ed0-0ea7-4be5-9564-fbd8c8759b6f",
   "metadata": {},
   "outputs": [],
   "source": []
  }
 ],
 "metadata": {
  "kernelspec": {
   "display_name": "cs685",
   "language": "python",
   "name": "python3"
  },
  "language_info": {
   "codemirror_mode": {
    "name": "ipython",
    "version": 3
   },
   "file_extension": ".py",
   "mimetype": "text/x-python",
   "name": "python",
   "nbconvert_exporter": "python",
   "pygments_lexer": "ipython3",
   "version": "3.11.8"
  }
 },
 "nbformat": 4,
 "nbformat_minor": 5
}

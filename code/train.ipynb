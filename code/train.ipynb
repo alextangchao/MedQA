{
 "cells": [
  {
   "cell_type": "code",
   "execution_count": 1,
   "metadata": {},
   "outputs": [],
   "source": [
    "import torch\n",
    "from transformers import AutoModelForCausalLM, AutoTokenizer, TrainingArguments, Trainer, BitsAndBytesConfig\n",
    "from peft import prepare_model_for_kbit_training, LoraConfig, get_peft_model\n",
    "from datasets import load_dataset, Dataset\n",
    "import os \n"
   ]
  },
  {
   "cell_type": "code",
   "execution_count": 2,
   "metadata": {},
   "outputs": [],
   "source": [
    "os.environ[\"WANDB_API_KEY\"] = \"e2ab1b2b4244272268524960c98f9a9e6a5decd6\"\n",
    "os.environ[\"WANDB_PROJECT\"]=\"ft\"\n",
    "os.environ[\"TOKENIZERS_PARALLELISM\"] = \"false\""
   ]
  },
  {
   "cell_type": "code",
   "execution_count": 3,
   "metadata": {},
   "outputs": [
    {
     "name": "stdout",
     "output_type": "stream",
     "text": [
      "Create sweep with ID: 78buvnad\n",
      "Sweep URL: https://wandb.ai/calvin-chai/ft/sweeps/78buvnad\n"
     ]
    }
   ],
   "source": [
    "import wandb\n",
    "\n",
    "sweep_configuration = {\n",
    "    \"method\": \"random\",\n",
    "    \"name\": \"sweep\",\n",
    "    \"metric\": {\"goal\": \"minimize\", \"name\": \"score\"},\n",
    "    \"parameters\": {\n",
    "        \"batch_size\": {\"values\": [8,16,]},\n",
    "        \"epochs\": {\"values\": [1,2,3]},\n",
    "        \"lr\": {\"max\": 5e-4, \"min\": 1e-5},\n",
    "    },\n",
    "}\n",
    "\n",
    "sweep_id = wandb.sweep(sweep=sweep_configuration, project=\"ft\")"
   ]
  },
  {
   "cell_type": "code",
   "execution_count": 4,
   "metadata": {},
   "outputs": [],
   "source": [
    "modelpath=r\"/tsukimi/llm/Meta-Llama-3-8B\"\n",
    "tokenizer = AutoTokenizer.from_pretrained(modelpath, use_fast=False)"
   ]
  },
  {
   "cell_type": "code",
   "execution_count": 5,
   "metadata": {},
   "outputs": [],
   "source": [
    "train_dataset = load_dataset(\"Amirkid/MedQuad-dataset\")\n",
    "all_train_data = []\n",
    "for i in range(0,len(train_dataset[\"train\"]),2):\n",
    "    all_train_data.append(f'Question:\\n{train_dataset[\"train\"][i][\"text\"]} \\n\\nAnswer:\\n{train_dataset[\"train\"][i+1][\"text\"]}')\n",
    "train_dataset = Dataset.from_dict({\"text\": all_train_data}).train_test_split(test_size=0.1)\n",
    "del all_train_data"
   ]
  },
  {
   "cell_type": "code",
   "execution_count": null,
   "metadata": {},
   "outputs": [],
   "source": [
    "tokenizer.pad_token = tokenizer.eos_token\n",
    "dateset_tokenized = dataset.map(\n",
    "    lambda examples: tokenizer(examples[\"text\"], padding=\"max_length\", truncation=True, max_length=512),\n",
    "    batched=True, \n",
    "    num_proc=4,   \n",
    "    remove_columns=[\"text\"])  \n",
    "\n",
    "dataset = dateset_tokenized\n"
   ]
  },
  {
   "cell_type": "code",
   "execution_count": null,
   "metadata": {},
   "outputs": [],
   "source": [
    "model = AutoModelForCausalLM.from_pretrained(\n",
    "    modelpath,    \n",
    "    device_map=\"auto\",\n",
    "    quantization_config=BitsAndBytesConfig(\n",
    "        load_in_4bit=True,\n",
    "        bnb_4bit_compute_dtype=torch.bfloat16,\n",
    "        bnb_4bit_quant_type=\"nf4\",\n",
    "    ),\n",
    "    torch_dtype=torch.bfloat16,\n",
    ")\n",
    "model = prepare_model_for_kbit_training(model)"
   ]
  },
  {
   "cell_type": "code",
   "execution_count": null,
   "metadata": {},
   "outputs": [],
   "source": [
    "config = LoraConfig(\n",
    "    r=64, \n",
    "    lora_alpha=16, \n",
    "    target_modules = ['q_proj', 'k_proj', 'down_proj', 'v_proj', 'gate_proj', 'o_proj', 'up_proj'],\n",
    "    lora_dropout=0.1, \n",
    "    bias=\"none\", \n",
    "    modules_to_save = [\"lm_head\", \"embed_tokens\"],\t\t# needed because we added new tokens to tokenizer/model\n",
    "    task_type=\"CAUSAL_LM\"\n",
    ")\n",
    "model = get_peft_model(model, config)\n",
    "model.config.use_cache = False"
   ]
  },
  {
   "cell_type": "code",
   "execution_count": null,
   "metadata": {},
   "outputs": [],
   "source": [
    "from transformers.integrations import WandbCallback\n",
    "import pandas as pd\n",
    "\n",
    "\n",
    "def decode_predictions(tokenizer, predictions):\n",
    "    labels = tokenizer.batch_decode(predictions.label_ids)\n",
    "    logits = predictions.predictions.argmax(axis=-1)\n",
    "    prediction_text = tokenizer.batch_decode(logits)\n",
    "    return {\"labels\": labels, \"predictions\": prediction_text}\n",
    "\n",
    "\n",
    "class WandbPredictionProgressCallback(WandbCallback):\n",
    "    \"\"\"Custom WandbCallback to log model predictions during training.\n",
    "\n",
    "    This callback logs model predictions and labels to a wandb.Table at each \n",
    "    logging step during training. It allows to visualize the \n",
    "    model predictions as the training progresses.\n",
    "\n",
    "    Attributes:\n",
    "        trainer (Trainer): The Hugging Face Trainer instance.\n",
    "        tokenizer (AutoTokenizer): The tokenizer associated with the model.\n",
    "        sample_dataset (Dataset): A subset of the validation dataset \n",
    "          for generating predictions.\n",
    "        num_samples (int, optional): Number of samples to select from \n",
    "          the validation dataset for generating predictions. Defaults to 100.\n",
    "        freq (int, optional): Frequency of logging. Defaults to 2.\n",
    "    \"\"\"\n",
    "\n",
    "    def __init__(self, trainer, tokenizer, val_dataset,\n",
    "                 num_samples=100, freq=2):\n",
    "        \"\"\"Initializes the WandbPredictionProgressCallback instance.\n",
    "\n",
    "        Args:\n",
    "            trainer (Trainer): The Hugging Face Trainer instance.\n",
    "            tokenizer (AutoTokenizer): The tokenizer associated \n",
    "              with the model.\n",
    "            val_dataset (Dataset): The validation dataset.\n",
    "            num_samples (int, optional): Number of samples to select from \n",
    "              the validation dataset for generating predictions.\n",
    "              Defaults to 100.\n",
    "            freq (int, optional): Frequency of logging. Defaults to 2.\n",
    "        \"\"\"\n",
    "        super().__init__()\n",
    "        self.trainer = trainer\n",
    "        self.tokenizer = tokenizer\n",
    "        self.sample_dataset = val_dataset.select(range(num_samples))\n",
    "        self.freq = freq\n",
    "\n",
    "    def on_evaluate(self, args, state, control, **kwargs):\n",
    "        super().on_evaluate(args, state, control, **kwargs)\n",
    "        # control the frequency of logging by logging the predictions\n",
    "        # every `freq` epochs\n",
    "        if state.epoch % self.freq == 0:\n",
    "            # generate predictions\n",
    "            predictions = self.trainer.predict(self.sample_dataset)\n",
    "            # decode predictions and labels\n",
    "            predictions = decode_predictions(self.tokenizer, predictions)\n",
    "            # add predictions to a wandb.Table\n",
    "            predictions_df = pd.DataFrame(predictions)\n",
    "            predictions_df[\"epoch\"] = state.epoch\n",
    "            records_table = self._wandb.Table(dataframe=predictions_df)\n",
    "            # log the table to wandb\n",
    "            self._wandb.log({\"sample_predictions\": records_table})\n",
    "\n",
    "def collate(elements):\n",
    "    tokenlist=[e[\"input_ids\"] for e in elements]\n",
    "    tokens_maxlen=max([len(t) for t in tokenlist])\n",
    "\n",
    "    input_ids,labels,attention_masks = [],[],[]\n",
    "    for tokens in tokenlist:\n",
    "        pad_len=tokens_maxlen-len(tokens)\n",
    "\n",
    "        # pad input_ids with pad_token, labels with ignore_index (-100) and set attention_mask 1 where content otherwise 0\n",
    "        input_ids.append( tokens + [tokenizer.pad_token_id]*pad_len )   \n",
    "        labels.append( tokens + [-100]*pad_len )    \n",
    "        attention_masks.append( [1]*len(tokens) + [0]*pad_len ) \n",
    "\n",
    "    batch={\n",
    "        \"input_ids\": torch.tensor(input_ids),\n",
    "        \"labels\": torch.tensor(labels),\n",
    "        \"attention_mask\": torch.tensor(attention_masks)\n",
    "    }\n",
    "    return batch"
   ]
  },
  {
   "cell_type": "code",
   "execution_count": null,
   "metadata": {},
   "outputs": [],
   "source": []
  },
  {
   "cell_type": "code",
   "execution_count": null,
   "metadata": {},
   "outputs": [],
   "source": [
    "\n",
    "\n",
    "\n",
    "\n",
    "\n",
    "\n",
    "bs=16      # batch size\n",
    "ga_steps=1  # gradient acc. steps\n",
    "epochs=5\n",
    "steps_per_epoch=len(dataset_tokenized[\"train\"])//(bs*ga_steps)\n",
    "\n",
    "args = TrainingArguments(\n",
    "    output_dir=\"/tsukimi/llm/ft\",\n",
    "    per_device_train_batch_size=bs,\n",
    "    per_device_eval_batch_size=bs,\n",
    "    evaluation_strategy=\"steps\",\n",
    "    logging_steps=1,\n",
    "    eval_steps=steps_per_epoch,\t\t# eval and save once per epoch  \t\n",
    "    save_steps=steps_per_epoch,\n",
    "    gradient_accumulation_steps=ga_steps,\n",
    "    num_train_epochs=epochs,\n",
    "    lr_scheduler_type=\"constant\",\n",
    "    optim=\"paged_adamw_32bit\",\n",
    "    learning_rate=0.00005,\n",
    "    group_by_length=True,\n",
    "    fp16=True,\n",
    "    ddp_find_unused_parameters=False,\n",
    "    report_to=\"wandb\",\n",
    ")\n",
    "\n",
    "trainer = Trainer(\n",
    "    model=model,\n",
    "    tokenizer=tokenizer,\n",
    "    data_collator=collate,\n",
    "    train_dataset=dataset_tokenized[\"train\"],\n",
    "    eval_dataset=dataset_tokenized[\"test\"],\n",
    "    args=args,\n",
    ")\n",
    "\n",
    "trainer.train()\n",
    "\n",
    "model = model.merge_and_unload()\n",
    "model.save_pretrained(\"/tsukimi/llm/ft/output\")\n",
    "\n",
    "\n"
   ]
  }
 ],
 "metadata": {
  "kernelspec": {
   "display_name": "Python 3 (ipykernel)",
   "language": "python",
   "name": "python3"
  },
  "language_info": {
   "codemirror_mode": {
    "name": "ipython",
    "version": 3
   },
   "file_extension": ".py",
   "mimetype": "text/x-python",
   "name": "python",
   "nbconvert_exporter": "python",
   "pygments_lexer": "ipython3",
   "version": "3.8.10"
  }
 },
 "nbformat": 4,
 "nbformat_minor": 2
}
